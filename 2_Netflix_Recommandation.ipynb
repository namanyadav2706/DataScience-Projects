{
  "nbformat": 4,
  "nbformat_minor": 0,
  "metadata": {
    "colab": {
      "provenance": [],
      "collapsed_sections": [],
      "authorship_tag": "ABX9TyNeN7NyYB4q3f0TA8hcUY4d",
      "include_colab_link": true
    },
    "kernelspec": {
      "name": "python3",
      "display_name": "Python 3"
    },
    "language_info": {
      "name": "python"
    }
  },
  "cells": [
    {
      "cell_type": "markdown",
      "metadata": {
        "id": "view-in-github",
        "colab_type": "text"
      },
      "source": [
        "<a href=\"https://colab.research.google.com/github/namanyadav2706/DataScience-Projects/blob/main/2_Netflix_Recommandation.ipynb\" target=\"_parent\"><img src=\"https://colab.research.google.com/assets/colab-badge.svg\" alt=\"Open In Colab\"/></a>"
      ]
    },
    {
      "cell_type": "code",
      "execution_count": 90,
      "metadata": {
        "id": "qn5thI-7lO77"
      },
      "outputs": [],
      "source": [
        "import pandas as pd                      ## Import the Libraries"
      ]
    },
    {
      "cell_type": "code",
      "source": [
        "df=pd.read_csv('2_netflixData.csv')      ## Read the dataset"
      ],
      "metadata": {
        "id": "AxRBZ2G1ytwi"
      },
      "execution_count": 91,
      "outputs": []
    },
    {
      "cell_type": "code",
      "source": [
        "df.head()"
      ],
      "metadata": {
        "colab": {
          "base_uri": "https://localhost:8080/",
          "height": 406
        },
        "id": "i8UWf5o0y4Dg",
        "outputId": "b895796a-f21a-41fe-b2e6-0875daebcc3a"
      },
      "execution_count": 92,
      "outputs": [
        {
          "output_type": "execute_result",
          "data": {
            "text/plain": [
              "                                Show Id                          Title  \\\n",
              "0  cc1b6ed9-cf9e-4057-8303-34577fb54477                       (Un)Well   \n",
              "1  e2ef4e91-fb25-42ab-b485-be8e3b23dedb                         #Alive   \n",
              "2  b01b73b7-81f6-47a7-86d8-acb63080d525  #AnneFrank - Parallel Stories   \n",
              "3  b6611af0-f53c-4a08-9ffa-9716dc57eb9c                       #blackAF   \n",
              "4  7f2d4170-bab8-4d75-adc2-197f7124c070               #cats_the_mewvie   \n",
              "\n",
              "                                         Description  \\\n",
              "0  This docuseries takes a deep dive into the luc...   \n",
              "1  As a grisly virus rampages a city, a lone man ...   \n",
              "2  Through her diary, Anne Frank's story is retol...   \n",
              "3  Kenya Barris and his family navigate relations...   \n",
              "4  This pawesome documentary explores how our fel...   \n",
              "\n",
              "                      Director  \\\n",
              "0                          NaN   \n",
              "1                       Cho Il   \n",
              "2  Sabina Fedeli, Anna Migotto   \n",
              "3                          NaN   \n",
              "4             Michael Margolis   \n",
              "\n",
              "                                           Genres  \\\n",
              "0                                      Reality TV   \n",
              "1  Horror Movies, International Movies, Thrillers   \n",
              "2             Documentaries, International Movies   \n",
              "3                                     TV Comedies   \n",
              "4             Documentaries, International Movies   \n",
              "\n",
              "                                                Cast Production Country  \\\n",
              "0                                                NaN      United States   \n",
              "1                           Yoo Ah-in, Park Shin-hye        South Korea   \n",
              "2                        Helen Mirren, Gengher Gatti              Italy   \n",
              "3  Kenya Barris, Rashida Jones, Iman Benson, Genn...      United States   \n",
              "4                                                NaN             Canada   \n",
              "\n",
              "   Release Date Rating  Duration Imdb Score Content Type         Date Added  \n",
              "0        2020.0  TV-MA  1 Season     6.6/10      TV Show                NaN  \n",
              "1        2020.0  TV-MA    99 min     6.2/10        Movie  September 8, 2020  \n",
              "2        2019.0  TV-14    95 min     6.4/10        Movie       July 1, 2020  \n",
              "3        2020.0  TV-MA  1 Season     6.6/10      TV Show                NaN  \n",
              "4        2020.0  TV-14    90 min     5.1/10        Movie   February 5, 2020  "
            ],
            "text/html": [
              "\n",
              "  <div id=\"df-9cf04bed-f32e-4237-ae77-5a460ee04dfd\">\n",
              "    <div class=\"colab-df-container\">\n",
              "      <div>\n",
              "<style scoped>\n",
              "    .dataframe tbody tr th:only-of-type {\n",
              "        vertical-align: middle;\n",
              "    }\n",
              "\n",
              "    .dataframe tbody tr th {\n",
              "        vertical-align: top;\n",
              "    }\n",
              "\n",
              "    .dataframe thead th {\n",
              "        text-align: right;\n",
              "    }\n",
              "</style>\n",
              "<table border=\"1\" class=\"dataframe\">\n",
              "  <thead>\n",
              "    <tr style=\"text-align: right;\">\n",
              "      <th></th>\n",
              "      <th>Show Id</th>\n",
              "      <th>Title</th>\n",
              "      <th>Description</th>\n",
              "      <th>Director</th>\n",
              "      <th>Genres</th>\n",
              "      <th>Cast</th>\n",
              "      <th>Production Country</th>\n",
              "      <th>Release Date</th>\n",
              "      <th>Rating</th>\n",
              "      <th>Duration</th>\n",
              "      <th>Imdb Score</th>\n",
              "      <th>Content Type</th>\n",
              "      <th>Date Added</th>\n",
              "    </tr>\n",
              "  </thead>\n",
              "  <tbody>\n",
              "    <tr>\n",
              "      <th>0</th>\n",
              "      <td>cc1b6ed9-cf9e-4057-8303-34577fb54477</td>\n",
              "      <td>(Un)Well</td>\n",
              "      <td>This docuseries takes a deep dive into the luc...</td>\n",
              "      <td>NaN</td>\n",
              "      <td>Reality TV</td>\n",
              "      <td>NaN</td>\n",
              "      <td>United States</td>\n",
              "      <td>2020.0</td>\n",
              "      <td>TV-MA</td>\n",
              "      <td>1 Season</td>\n",
              "      <td>6.6/10</td>\n",
              "      <td>TV Show</td>\n",
              "      <td>NaN</td>\n",
              "    </tr>\n",
              "    <tr>\n",
              "      <th>1</th>\n",
              "      <td>e2ef4e91-fb25-42ab-b485-be8e3b23dedb</td>\n",
              "      <td>#Alive</td>\n",
              "      <td>As a grisly virus rampages a city, a lone man ...</td>\n",
              "      <td>Cho Il</td>\n",
              "      <td>Horror Movies, International Movies, Thrillers</td>\n",
              "      <td>Yoo Ah-in, Park Shin-hye</td>\n",
              "      <td>South Korea</td>\n",
              "      <td>2020.0</td>\n",
              "      <td>TV-MA</td>\n",
              "      <td>99 min</td>\n",
              "      <td>6.2/10</td>\n",
              "      <td>Movie</td>\n",
              "      <td>September 8, 2020</td>\n",
              "    </tr>\n",
              "    <tr>\n",
              "      <th>2</th>\n",
              "      <td>b01b73b7-81f6-47a7-86d8-acb63080d525</td>\n",
              "      <td>#AnneFrank - Parallel Stories</td>\n",
              "      <td>Through her diary, Anne Frank's story is retol...</td>\n",
              "      <td>Sabina Fedeli, Anna Migotto</td>\n",
              "      <td>Documentaries, International Movies</td>\n",
              "      <td>Helen Mirren, Gengher Gatti</td>\n",
              "      <td>Italy</td>\n",
              "      <td>2019.0</td>\n",
              "      <td>TV-14</td>\n",
              "      <td>95 min</td>\n",
              "      <td>6.4/10</td>\n",
              "      <td>Movie</td>\n",
              "      <td>July 1, 2020</td>\n",
              "    </tr>\n",
              "    <tr>\n",
              "      <th>3</th>\n",
              "      <td>b6611af0-f53c-4a08-9ffa-9716dc57eb9c</td>\n",
              "      <td>#blackAF</td>\n",
              "      <td>Kenya Barris and his family navigate relations...</td>\n",
              "      <td>NaN</td>\n",
              "      <td>TV Comedies</td>\n",
              "      <td>Kenya Barris, Rashida Jones, Iman Benson, Genn...</td>\n",
              "      <td>United States</td>\n",
              "      <td>2020.0</td>\n",
              "      <td>TV-MA</td>\n",
              "      <td>1 Season</td>\n",
              "      <td>6.6/10</td>\n",
              "      <td>TV Show</td>\n",
              "      <td>NaN</td>\n",
              "    </tr>\n",
              "    <tr>\n",
              "      <th>4</th>\n",
              "      <td>7f2d4170-bab8-4d75-adc2-197f7124c070</td>\n",
              "      <td>#cats_the_mewvie</td>\n",
              "      <td>This pawesome documentary explores how our fel...</td>\n",
              "      <td>Michael Margolis</td>\n",
              "      <td>Documentaries, International Movies</td>\n",
              "      <td>NaN</td>\n",
              "      <td>Canada</td>\n",
              "      <td>2020.0</td>\n",
              "      <td>TV-14</td>\n",
              "      <td>90 min</td>\n",
              "      <td>5.1/10</td>\n",
              "      <td>Movie</td>\n",
              "      <td>February 5, 2020</td>\n",
              "    </tr>\n",
              "  </tbody>\n",
              "</table>\n",
              "</div>\n",
              "      <button class=\"colab-df-convert\" onclick=\"convertToInteractive('df-9cf04bed-f32e-4237-ae77-5a460ee04dfd')\"\n",
              "              title=\"Convert this dataframe to an interactive table.\"\n",
              "              style=\"display:none;\">\n",
              "        \n",
              "  <svg xmlns=\"http://www.w3.org/2000/svg\" height=\"24px\"viewBox=\"0 0 24 24\"\n",
              "       width=\"24px\">\n",
              "    <path d=\"M0 0h24v24H0V0z\" fill=\"none\"/>\n",
              "    <path d=\"M18.56 5.44l.94 2.06.94-2.06 2.06-.94-2.06-.94-.94-2.06-.94 2.06-2.06.94zm-11 1L8.5 8.5l.94-2.06 2.06-.94-2.06-.94L8.5 2.5l-.94 2.06-2.06.94zm10 10l.94 2.06.94-2.06 2.06-.94-2.06-.94-.94-2.06-.94 2.06-2.06.94z\"/><path d=\"M17.41 7.96l-1.37-1.37c-.4-.4-.92-.59-1.43-.59-.52 0-1.04.2-1.43.59L10.3 9.45l-7.72 7.72c-.78.78-.78 2.05 0 2.83L4 21.41c.39.39.9.59 1.41.59.51 0 1.02-.2 1.41-.59l7.78-7.78 2.81-2.81c.8-.78.8-2.07 0-2.86zM5.41 20L4 18.59l7.72-7.72 1.47 1.35L5.41 20z\"/>\n",
              "  </svg>\n",
              "      </button>\n",
              "      \n",
              "  <style>\n",
              "    .colab-df-container {\n",
              "      display:flex;\n",
              "      flex-wrap:wrap;\n",
              "      gap: 12px;\n",
              "    }\n",
              "\n",
              "    .colab-df-convert {\n",
              "      background-color: #E8F0FE;\n",
              "      border: none;\n",
              "      border-radius: 50%;\n",
              "      cursor: pointer;\n",
              "      display: none;\n",
              "      fill: #1967D2;\n",
              "      height: 32px;\n",
              "      padding: 0 0 0 0;\n",
              "      width: 32px;\n",
              "    }\n",
              "\n",
              "    .colab-df-convert:hover {\n",
              "      background-color: #E2EBFA;\n",
              "      box-shadow: 0px 1px 2px rgba(60, 64, 67, 0.3), 0px 1px 3px 1px rgba(60, 64, 67, 0.15);\n",
              "      fill: #174EA6;\n",
              "    }\n",
              "\n",
              "    [theme=dark] .colab-df-convert {\n",
              "      background-color: #3B4455;\n",
              "      fill: #D2E3FC;\n",
              "    }\n",
              "\n",
              "    [theme=dark] .colab-df-convert:hover {\n",
              "      background-color: #434B5C;\n",
              "      box-shadow: 0px 1px 3px 1px rgba(0, 0, 0, 0.15);\n",
              "      filter: drop-shadow(0px 1px 2px rgba(0, 0, 0, 0.3));\n",
              "      fill: #FFFFFF;\n",
              "    }\n",
              "  </style>\n",
              "\n",
              "      <script>\n",
              "        const buttonEl =\n",
              "          document.querySelector('#df-9cf04bed-f32e-4237-ae77-5a460ee04dfd button.colab-df-convert');\n",
              "        buttonEl.style.display =\n",
              "          google.colab.kernel.accessAllowed ? 'block' : 'none';\n",
              "\n",
              "        async function convertToInteractive(key) {\n",
              "          const element = document.querySelector('#df-9cf04bed-f32e-4237-ae77-5a460ee04dfd');\n",
              "          const dataTable =\n",
              "            await google.colab.kernel.invokeFunction('convertToInteractive',\n",
              "                                                     [key], {});\n",
              "          if (!dataTable) return;\n",
              "\n",
              "          const docLinkHtml = 'Like what you see? Visit the ' +\n",
              "            '<a target=\"_blank\" href=https://colab.research.google.com/notebooks/data_table.ipynb>data table notebook</a>'\n",
              "            + ' to learn more about interactive tables.';\n",
              "          element.innerHTML = '';\n",
              "          dataTable['output_type'] = 'display_data';\n",
              "          await google.colab.output.renderOutput(dataTable, element);\n",
              "          const docLink = document.createElement('div');\n",
              "          docLink.innerHTML = docLinkHtml;\n",
              "          element.appendChild(docLink);\n",
              "        }\n",
              "      </script>\n",
              "    </div>\n",
              "  </div>\n",
              "  "
            ]
          },
          "metadata": {},
          "execution_count": 92
        }
      ]
    },
    {
      "cell_type": "code",
      "source": [
        "df.shape"
      ],
      "metadata": {
        "colab": {
          "base_uri": "https://localhost:8080/"
        },
        "id": "zrYKiF9Fy5wQ",
        "outputId": "f5f6b072-a984-4865-8537-d3c139238408"
      },
      "execution_count": 93,
      "outputs": [
        {
          "output_type": "execute_result",
          "data": {
            "text/plain": [
              "(5967, 13)"
            ]
          },
          "metadata": {},
          "execution_count": 93
        }
      ]
    },
    {
      "cell_type": "code",
      "source": [
        "df.isnull().sum()  ## To check the null values in the dataset"
      ],
      "metadata": {
        "colab": {
          "base_uri": "https://localhost:8080/"
        },
        "id": "cZfcPXshzADg",
        "outputId": "4f3fe534-99de-4970-82ed-e49c7655f744"
      },
      "execution_count": 94,
      "outputs": [
        {
          "output_type": "execute_result",
          "data": {
            "text/plain": [
              "Show Id                  0\n",
              "Title                    0\n",
              "Description              0\n",
              "Director              2064\n",
              "Genres                   0\n",
              "Cast                   530\n",
              "Production Country     559\n",
              "Release Date             3\n",
              "Rating                   4\n",
              "Duration                 3\n",
              "Imdb Score             608\n",
              "Content Type             0\n",
              "Date Added            1335\n",
              "dtype: int64"
            ]
          },
          "metadata": {},
          "execution_count": 94
        }
      ]
    },
    {
      "cell_type": "code",
      "source": [
        "df=df[['Title','Description','Genres','Content Type']]  ## only these columns will be required in the recommandation system"
      ],
      "metadata": {
        "id": "P8wb8sQgzcoQ"
      },
      "execution_count": 95,
      "outputs": []
    },
    {
      "cell_type": "code",
      "source": [
        "df.head()"
      ],
      "metadata": {
        "colab": {
          "base_uri": "https://localhost:8080/",
          "height": 206
        },
        "id": "G7-lqiGg7hRI",
        "outputId": "dff0faf0-5c7d-43c3-eaac-51351a9840d0"
      },
      "execution_count": 96,
      "outputs": [
        {
          "output_type": "execute_result",
          "data": {
            "text/plain": [
              "                           Title  \\\n",
              "0                       (Un)Well   \n",
              "1                         #Alive   \n",
              "2  #AnneFrank - Parallel Stories   \n",
              "3                       #blackAF   \n",
              "4               #cats_the_mewvie   \n",
              "\n",
              "                                         Description  \\\n",
              "0  This docuseries takes a deep dive into the luc...   \n",
              "1  As a grisly virus rampages a city, a lone man ...   \n",
              "2  Through her diary, Anne Frank's story is retol...   \n",
              "3  Kenya Barris and his family navigate relations...   \n",
              "4  This pawesome documentary explores how our fel...   \n",
              "\n",
              "                                           Genres Content Type  \n",
              "0                                      Reality TV      TV Show  \n",
              "1  Horror Movies, International Movies, Thrillers        Movie  \n",
              "2             Documentaries, International Movies        Movie  \n",
              "3                                     TV Comedies      TV Show  \n",
              "4             Documentaries, International Movies        Movie  "
            ],
            "text/html": [
              "\n",
              "  <div id=\"df-480ab7e1-3f76-4223-8124-4e7b46a21989\">\n",
              "    <div class=\"colab-df-container\">\n",
              "      <div>\n",
              "<style scoped>\n",
              "    .dataframe tbody tr th:only-of-type {\n",
              "        vertical-align: middle;\n",
              "    }\n",
              "\n",
              "    .dataframe tbody tr th {\n",
              "        vertical-align: top;\n",
              "    }\n",
              "\n",
              "    .dataframe thead th {\n",
              "        text-align: right;\n",
              "    }\n",
              "</style>\n",
              "<table border=\"1\" class=\"dataframe\">\n",
              "  <thead>\n",
              "    <tr style=\"text-align: right;\">\n",
              "      <th></th>\n",
              "      <th>Title</th>\n",
              "      <th>Description</th>\n",
              "      <th>Genres</th>\n",
              "      <th>Content Type</th>\n",
              "    </tr>\n",
              "  </thead>\n",
              "  <tbody>\n",
              "    <tr>\n",
              "      <th>0</th>\n",
              "      <td>(Un)Well</td>\n",
              "      <td>This docuseries takes a deep dive into the luc...</td>\n",
              "      <td>Reality TV</td>\n",
              "      <td>TV Show</td>\n",
              "    </tr>\n",
              "    <tr>\n",
              "      <th>1</th>\n",
              "      <td>#Alive</td>\n",
              "      <td>As a grisly virus rampages a city, a lone man ...</td>\n",
              "      <td>Horror Movies, International Movies, Thrillers</td>\n",
              "      <td>Movie</td>\n",
              "    </tr>\n",
              "    <tr>\n",
              "      <th>2</th>\n",
              "      <td>#AnneFrank - Parallel Stories</td>\n",
              "      <td>Through her diary, Anne Frank's story is retol...</td>\n",
              "      <td>Documentaries, International Movies</td>\n",
              "      <td>Movie</td>\n",
              "    </tr>\n",
              "    <tr>\n",
              "      <th>3</th>\n",
              "      <td>#blackAF</td>\n",
              "      <td>Kenya Barris and his family navigate relations...</td>\n",
              "      <td>TV Comedies</td>\n",
              "      <td>TV Show</td>\n",
              "    </tr>\n",
              "    <tr>\n",
              "      <th>4</th>\n",
              "      <td>#cats_the_mewvie</td>\n",
              "      <td>This pawesome documentary explores how our fel...</td>\n",
              "      <td>Documentaries, International Movies</td>\n",
              "      <td>Movie</td>\n",
              "    </tr>\n",
              "  </tbody>\n",
              "</table>\n",
              "</div>\n",
              "      <button class=\"colab-df-convert\" onclick=\"convertToInteractive('df-480ab7e1-3f76-4223-8124-4e7b46a21989')\"\n",
              "              title=\"Convert this dataframe to an interactive table.\"\n",
              "              style=\"display:none;\">\n",
              "        \n",
              "  <svg xmlns=\"http://www.w3.org/2000/svg\" height=\"24px\"viewBox=\"0 0 24 24\"\n",
              "       width=\"24px\">\n",
              "    <path d=\"M0 0h24v24H0V0z\" fill=\"none\"/>\n",
              "    <path d=\"M18.56 5.44l.94 2.06.94-2.06 2.06-.94-2.06-.94-.94-2.06-.94 2.06-2.06.94zm-11 1L8.5 8.5l.94-2.06 2.06-.94-2.06-.94L8.5 2.5l-.94 2.06-2.06.94zm10 10l.94 2.06.94-2.06 2.06-.94-2.06-.94-.94-2.06-.94 2.06-2.06.94z\"/><path d=\"M17.41 7.96l-1.37-1.37c-.4-.4-.92-.59-1.43-.59-.52 0-1.04.2-1.43.59L10.3 9.45l-7.72 7.72c-.78.78-.78 2.05 0 2.83L4 21.41c.39.39.9.59 1.41.59.51 0 1.02-.2 1.41-.59l7.78-7.78 2.81-2.81c.8-.78.8-2.07 0-2.86zM5.41 20L4 18.59l7.72-7.72 1.47 1.35L5.41 20z\"/>\n",
              "  </svg>\n",
              "      </button>\n",
              "      \n",
              "  <style>\n",
              "    .colab-df-container {\n",
              "      display:flex;\n",
              "      flex-wrap:wrap;\n",
              "      gap: 12px;\n",
              "    }\n",
              "\n",
              "    .colab-df-convert {\n",
              "      background-color: #E8F0FE;\n",
              "      border: none;\n",
              "      border-radius: 50%;\n",
              "      cursor: pointer;\n",
              "      display: none;\n",
              "      fill: #1967D2;\n",
              "      height: 32px;\n",
              "      padding: 0 0 0 0;\n",
              "      width: 32px;\n",
              "    }\n",
              "\n",
              "    .colab-df-convert:hover {\n",
              "      background-color: #E2EBFA;\n",
              "      box-shadow: 0px 1px 2px rgba(60, 64, 67, 0.3), 0px 1px 3px 1px rgba(60, 64, 67, 0.15);\n",
              "      fill: #174EA6;\n",
              "    }\n",
              "\n",
              "    [theme=dark] .colab-df-convert {\n",
              "      background-color: #3B4455;\n",
              "      fill: #D2E3FC;\n",
              "    }\n",
              "\n",
              "    [theme=dark] .colab-df-convert:hover {\n",
              "      background-color: #434B5C;\n",
              "      box-shadow: 0px 1px 3px 1px rgba(0, 0, 0, 0.15);\n",
              "      filter: drop-shadow(0px 1px 2px rgba(0, 0, 0, 0.3));\n",
              "      fill: #FFFFFF;\n",
              "    }\n",
              "  </style>\n",
              "\n",
              "      <script>\n",
              "        const buttonEl =\n",
              "          document.querySelector('#df-480ab7e1-3f76-4223-8124-4e7b46a21989 button.colab-df-convert');\n",
              "        buttonEl.style.display =\n",
              "          google.colab.kernel.accessAllowed ? 'block' : 'none';\n",
              "\n",
              "        async function convertToInteractive(key) {\n",
              "          const element = document.querySelector('#df-480ab7e1-3f76-4223-8124-4e7b46a21989');\n",
              "          const dataTable =\n",
              "            await google.colab.kernel.invokeFunction('convertToInteractive',\n",
              "                                                     [key], {});\n",
              "          if (!dataTable) return;\n",
              "\n",
              "          const docLinkHtml = 'Like what you see? Visit the ' +\n",
              "            '<a target=\"_blank\" href=https://colab.research.google.com/notebooks/data_table.ipynb>data table notebook</a>'\n",
              "            + ' to learn more about interactive tables.';\n",
              "          element.innerHTML = '';\n",
              "          dataTable['output_type'] = 'display_data';\n",
              "          await google.colab.output.renderOutput(dataTable, element);\n",
              "          const docLink = document.createElement('div');\n",
              "          docLink.innerHTML = docLinkHtml;\n",
              "          element.appendChild(docLink);\n",
              "        }\n",
              "      </script>\n",
              "    </div>\n",
              "  </div>\n",
              "  "
            ]
          },
          "metadata": {},
          "execution_count": 96
        }
      ]
    },
    {
      "cell_type": "code",
      "source": [
        "import nltk                  ## import the requied libraries\n",
        "import re\n",
        "nltk.download('stopwords')   ## download the stopwords\n",
        "from nltk.corpus import stopwords\n",
        "stopword=set(stopwords.words('english'))"
      ],
      "metadata": {
        "colab": {
          "base_uri": "https://localhost:8080/"
        },
        "id": "0zQ6SyfT7i4R",
        "outputId": "e412c94f-0d46-4152-824a-71172b896a34"
      },
      "execution_count": 97,
      "outputs": [
        {
          "output_type": "stream",
          "name": "stderr",
          "text": [
            "[nltk_data] Downloading package stopwords to /root/nltk_data...\n",
            "[nltk_data]   Package stopwords is already up-to-date!\n"
          ]
        }
      ]
    },
    {
      "cell_type": "code",
      "source": [
        "def clean(text):                               ## function to remove unnecessary text from the movie titles\n",
        "    text = re.sub('[^a-zA-Z0-9]', ' ', text)   ## title should consist of alphabets and numbers only\n",
        "    text = str(text).lower()                   ## turn complete text into the lowercase\n",
        "    text = [word for word in text.split(' ') if word not in stopword]   ## store all the words in a list and remove the stopwords\n",
        "    text=\" \".join(text)                        ## join the elements of the list using whitespace\n",
        "    return text"
      ],
      "metadata": {
        "id": "TrfrlspF7vo3"
      },
      "execution_count": 98,
      "outputs": []
    },
    {
      "cell_type": "code",
      "source": [
        "df[\"Title(updated)\"] = df[\"Title\"].apply(clean)  ## apply the function to the title column and add the new column into the dataset."
      ],
      "metadata": {
        "id": "BYK6l_HW74HR"
      },
      "execution_count": 99,
      "outputs": []
    },
    {
      "cell_type": "code",
      "source": [
        "df.head()"
      ],
      "metadata": {
        "colab": {
          "base_uri": "https://localhost:8080/",
          "height": 206
        },
        "id": "M8yLnATb8CIB",
        "outputId": "d5ca5fef-feaa-4851-f65d-8cd64dd7475a"
      },
      "execution_count": 100,
      "outputs": [
        {
          "output_type": "execute_result",
          "data": {
            "text/plain": [
              "                           Title  \\\n",
              "0                       (Un)Well   \n",
              "1                         #Alive   \n",
              "2  #AnneFrank - Parallel Stories   \n",
              "3                       #blackAF   \n",
              "4               #cats_the_mewvie   \n",
              "\n",
              "                                         Description  \\\n",
              "0  This docuseries takes a deep dive into the luc...   \n",
              "1  As a grisly virus rampages a city, a lone man ...   \n",
              "2  Through her diary, Anne Frank's story is retol...   \n",
              "3  Kenya Barris and his family navigate relations...   \n",
              "4  This pawesome documentary explores how our fel...   \n",
              "\n",
              "                                           Genres Content Type  \\\n",
              "0                                      Reality TV      TV Show   \n",
              "1  Horror Movies, International Movies, Thrillers        Movie   \n",
              "2             Documentaries, International Movies        Movie   \n",
              "3                                     TV Comedies      TV Show   \n",
              "4             Documentaries, International Movies        Movie   \n",
              "\n",
              "                  Title(updated)  \n",
              "0                        un well  \n",
              "1                          alive  \n",
              "2   annefrank   parallel stories  \n",
              "3                        blackaf  \n",
              "4                    cats mewvie  "
            ],
            "text/html": [
              "\n",
              "  <div id=\"df-37659752-02f3-47d9-b696-81ca34392d2c\">\n",
              "    <div class=\"colab-df-container\">\n",
              "      <div>\n",
              "<style scoped>\n",
              "    .dataframe tbody tr th:only-of-type {\n",
              "        vertical-align: middle;\n",
              "    }\n",
              "\n",
              "    .dataframe tbody tr th {\n",
              "        vertical-align: top;\n",
              "    }\n",
              "\n",
              "    .dataframe thead th {\n",
              "        text-align: right;\n",
              "    }\n",
              "</style>\n",
              "<table border=\"1\" class=\"dataframe\">\n",
              "  <thead>\n",
              "    <tr style=\"text-align: right;\">\n",
              "      <th></th>\n",
              "      <th>Title</th>\n",
              "      <th>Description</th>\n",
              "      <th>Genres</th>\n",
              "      <th>Content Type</th>\n",
              "      <th>Title(updated)</th>\n",
              "    </tr>\n",
              "  </thead>\n",
              "  <tbody>\n",
              "    <tr>\n",
              "      <th>0</th>\n",
              "      <td>(Un)Well</td>\n",
              "      <td>This docuseries takes a deep dive into the luc...</td>\n",
              "      <td>Reality TV</td>\n",
              "      <td>TV Show</td>\n",
              "      <td>un well</td>\n",
              "    </tr>\n",
              "    <tr>\n",
              "      <th>1</th>\n",
              "      <td>#Alive</td>\n",
              "      <td>As a grisly virus rampages a city, a lone man ...</td>\n",
              "      <td>Horror Movies, International Movies, Thrillers</td>\n",
              "      <td>Movie</td>\n",
              "      <td>alive</td>\n",
              "    </tr>\n",
              "    <tr>\n",
              "      <th>2</th>\n",
              "      <td>#AnneFrank - Parallel Stories</td>\n",
              "      <td>Through her diary, Anne Frank's story is retol...</td>\n",
              "      <td>Documentaries, International Movies</td>\n",
              "      <td>Movie</td>\n",
              "      <td>annefrank   parallel stories</td>\n",
              "    </tr>\n",
              "    <tr>\n",
              "      <th>3</th>\n",
              "      <td>#blackAF</td>\n",
              "      <td>Kenya Barris and his family navigate relations...</td>\n",
              "      <td>TV Comedies</td>\n",
              "      <td>TV Show</td>\n",
              "      <td>blackaf</td>\n",
              "    </tr>\n",
              "    <tr>\n",
              "      <th>4</th>\n",
              "      <td>#cats_the_mewvie</td>\n",
              "      <td>This pawesome documentary explores how our fel...</td>\n",
              "      <td>Documentaries, International Movies</td>\n",
              "      <td>Movie</td>\n",
              "      <td>cats mewvie</td>\n",
              "    </tr>\n",
              "  </tbody>\n",
              "</table>\n",
              "</div>\n",
              "      <button class=\"colab-df-convert\" onclick=\"convertToInteractive('df-37659752-02f3-47d9-b696-81ca34392d2c')\"\n",
              "              title=\"Convert this dataframe to an interactive table.\"\n",
              "              style=\"display:none;\">\n",
              "        \n",
              "  <svg xmlns=\"http://www.w3.org/2000/svg\" height=\"24px\"viewBox=\"0 0 24 24\"\n",
              "       width=\"24px\">\n",
              "    <path d=\"M0 0h24v24H0V0z\" fill=\"none\"/>\n",
              "    <path d=\"M18.56 5.44l.94 2.06.94-2.06 2.06-.94-2.06-.94-.94-2.06-.94 2.06-2.06.94zm-11 1L8.5 8.5l.94-2.06 2.06-.94-2.06-.94L8.5 2.5l-.94 2.06-2.06.94zm10 10l.94 2.06.94-2.06 2.06-.94-2.06-.94-.94-2.06-.94 2.06-2.06.94z\"/><path d=\"M17.41 7.96l-1.37-1.37c-.4-.4-.92-.59-1.43-.59-.52 0-1.04.2-1.43.59L10.3 9.45l-7.72 7.72c-.78.78-.78 2.05 0 2.83L4 21.41c.39.39.9.59 1.41.59.51 0 1.02-.2 1.41-.59l7.78-7.78 2.81-2.81c.8-.78.8-2.07 0-2.86zM5.41 20L4 18.59l7.72-7.72 1.47 1.35L5.41 20z\"/>\n",
              "  </svg>\n",
              "      </button>\n",
              "      \n",
              "  <style>\n",
              "    .colab-df-container {\n",
              "      display:flex;\n",
              "      flex-wrap:wrap;\n",
              "      gap: 12px;\n",
              "    }\n",
              "\n",
              "    .colab-df-convert {\n",
              "      background-color: #E8F0FE;\n",
              "      border: none;\n",
              "      border-radius: 50%;\n",
              "      cursor: pointer;\n",
              "      display: none;\n",
              "      fill: #1967D2;\n",
              "      height: 32px;\n",
              "      padding: 0 0 0 0;\n",
              "      width: 32px;\n",
              "    }\n",
              "\n",
              "    .colab-df-convert:hover {\n",
              "      background-color: #E2EBFA;\n",
              "      box-shadow: 0px 1px 2px rgba(60, 64, 67, 0.3), 0px 1px 3px 1px rgba(60, 64, 67, 0.15);\n",
              "      fill: #174EA6;\n",
              "    }\n",
              "\n",
              "    [theme=dark] .colab-df-convert {\n",
              "      background-color: #3B4455;\n",
              "      fill: #D2E3FC;\n",
              "    }\n",
              "\n",
              "    [theme=dark] .colab-df-convert:hover {\n",
              "      background-color: #434B5C;\n",
              "      box-shadow: 0px 1px 3px 1px rgba(0, 0, 0, 0.15);\n",
              "      filter: drop-shadow(0px 1px 2px rgba(0, 0, 0, 0.3));\n",
              "      fill: #FFFFFF;\n",
              "    }\n",
              "  </style>\n",
              "\n",
              "      <script>\n",
              "        const buttonEl =\n",
              "          document.querySelector('#df-37659752-02f3-47d9-b696-81ca34392d2c button.colab-df-convert');\n",
              "        buttonEl.style.display =\n",
              "          google.colab.kernel.accessAllowed ? 'block' : 'none';\n",
              "\n",
              "        async function convertToInteractive(key) {\n",
              "          const element = document.querySelector('#df-37659752-02f3-47d9-b696-81ca34392d2c');\n",
              "          const dataTable =\n",
              "            await google.colab.kernel.invokeFunction('convertToInteractive',\n",
              "                                                     [key], {});\n",
              "          if (!dataTable) return;\n",
              "\n",
              "          const docLinkHtml = 'Like what you see? Visit the ' +\n",
              "            '<a target=\"_blank\" href=https://colab.research.google.com/notebooks/data_table.ipynb>data table notebook</a>'\n",
              "            + ' to learn more about interactive tables.';\n",
              "          element.innerHTML = '';\n",
              "          dataTable['output_type'] = 'display_data';\n",
              "          await google.colab.output.renderOutput(dataTable, element);\n",
              "          const docLink = document.createElement('div');\n",
              "          docLink.innerHTML = docLinkHtml;\n",
              "          element.appendChild(docLink);\n",
              "        }\n",
              "      </script>\n",
              "    </div>\n",
              "  </div>\n",
              "  "
            ]
          },
          "metadata": {},
          "execution_count": 100
        }
      ]
    },
    {
      "cell_type": "code",
      "source": [
        "df.isnull().sum()"
      ],
      "metadata": {
        "colab": {
          "base_uri": "https://localhost:8080/"
        },
        "id": "qIlLzEjz8FMQ",
        "outputId": "bfd9acfd-4377-41c8-d975-a42f2045b08f"
      },
      "execution_count": 101,
      "outputs": [
        {
          "output_type": "execute_result",
          "data": {
            "text/plain": [
              "Title             0\n",
              "Description       0\n",
              "Genres            0\n",
              "Content Type      0\n",
              "Title(updated)    0\n",
              "dtype: int64"
            ]
          },
          "metadata": {},
          "execution_count": 101
        }
      ]
    },
    {
      "cell_type": "code",
      "source": [
        "feature = df[\"Genres\"].tolist()  ## add the whole Genres column to a list to find the similarity among all the movies"
      ],
      "metadata": {
        "id": "LV51B4Ac8XlQ"
      },
      "execution_count": 102,
      "outputs": []
    },
    {
      "cell_type": "code",
      "source": [
        "feature[:6] , type(feature)  , len(feature) "
      ],
      "metadata": {
        "colab": {
          "base_uri": "https://localhost:8080/"
        },
        "id": "zwkcQDh386lM",
        "outputId": "6f4a9572-fa61-49a7-dfb4-89dafe3987b5"
      },
      "execution_count": 103,
      "outputs": [
        {
          "output_type": "execute_result",
          "data": {
            "text/plain": [
              "(['Reality TV',\n",
              "  'Horror Movies, International Movies, Thrillers',\n",
              "  'Documentaries, International Movies',\n",
              "  'TV Comedies',\n",
              "  'Documentaries, International Movies',\n",
              "  'Dramas, International Movies, Romantic Movies'],\n",
              " list,\n",
              " 5967)"
            ]
          },
          "metadata": {},
          "execution_count": 103
        }
      ]
    },
    {
      "cell_type": "code",
      "source": [
        "## import the required libraries to find the cosine similarity\n",
        "from sklearn.feature_extraction import text             ## library to create the bag of words\n",
        "from sklearn.metrics.pairwise import cosine_similarity  ## library to calculate the similarity scores"
      ],
      "metadata": {
        "id": "YGRMc8M0Bpqa"
      },
      "execution_count": 104,
      "outputs": []
    },
    {
      "cell_type": "code",
      "source": [
        "# code to find the cosine similarity score\n",
        "tfidf = text.TfidfVectorizer(input=feature, stop_words=\"english\")\n",
        "tfidf_matrix = tfidf.fit_transform(feature)\n",
        "similarity = cosine_similarity(tfidf_matrix)"
      ],
      "metadata": {
        "id": "m-0a1l2b8p6g"
      },
      "execution_count": 105,
      "outputs": []
    },
    {
      "cell_type": "code",
      "source": [
        "similarity.shape                ## each movie has been compared to all the other movie in the dataset thats why the shape is (5967 X 5967)"
      ],
      "metadata": {
        "colab": {
          "base_uri": "https://localhost:8080/"
        },
        "id": "kG0yotsEF20V",
        "outputId": "af8f7f74-37fa-477c-dcda-89c2530a3779"
      },
      "execution_count": 106,
      "outputs": [
        {
          "output_type": "execute_result",
          "data": {
            "text/plain": [
              "(5967, 5967)"
            ]
          },
          "metadata": {},
          "execution_count": 106
        }
      ]
    },
    {
      "cell_type": "code",
      "source": [
        "indices = pd.Series(df.index, index=df['Title(updated)']).drop_duplicates()  #convert title into index so that we can search the movie in df"
      ],
      "metadata": {
        "id": "TiFGnA_gCXTw"
      },
      "execution_count": 107,
      "outputs": []
    },
    {
      "cell_type": "code",
      "source": [
        "def netFlix_recommendation(title, similarity = similarity):  ## function to get the top 10 movies with highest similarity score\n",
        "    index = indices[title]                                   ## index of the movie entered\n",
        "    similarity_scores = list(enumerate(similarity[index]))   ## get the similarity score of all the movies w.r.t the entered movie in a list\n",
        "    similarity_scores = sorted(similarity_scores, key=lambda x: x[1], reverse=True)   ## sort the list in the decending order\n",
        "    similarity_scores = similarity_scores[0:10]       ## get the top 10 similarity scores\n",
        "    movieindices = [i[0] for i in similarity_scores]  ## get the index of top 10 movies on the basis of similarity score\n",
        "    return df['Title(updated)'].iloc[movieindices]    ##  return the titles of those movies"
      ],
      "metadata": {
        "id": "M8wE8kFgCpYw"
      },
      "execution_count": 108,
      "outputs": []
    },
    {
      "cell_type": "code",
      "source": [
        "print(netFlix_recommendation(\"stranger things\"))      ## get the recommanded shows for --stranger things--"
      ],
      "metadata": {
        "colab": {
          "base_uri": "https://localhost:8080/"
        },
        "id": "ke6FnPMYC4Eh",
        "outputId": "65c86dfb-359c-458f-9020-03253a795946"
      },
      "execution_count": 109,
      "outputs": [
        {
          "output_type": "stream",
          "name": "stdout",
          "text": [
            "978     chilling adventures sabrina\n",
            "3406                    nightflyers\n",
            "4438                stranger things\n",
            "2941                       manifest\n",
            "4605                           4400\n",
            "5085                             oa\n",
            "5285                vampire diaries\n",
            "5956                            zoo\n",
            "5267               umbrella academy\n",
            "5715                    warrior nun\n",
            "Name: Title(updated), dtype: object\n"
          ]
        }
      ]
    },
    {
      "cell_type": "markdown",
      "source": [
        "Resourses and info:\n",
        "\n",
        "TF-IDF: https://scikit-learn.org/stable/modules/feature_extraction.html#text-feature-extraction\n",
        "\n",
        "Cosine Similarity: https://scikit-learn.org/stable/modules/generated/sklearn.metrics.pairwise.cosine_similarity.html\n",
        "\n",
        "Re-module: https://www.w3schools.com/python/python_regex.asp\n",
        "\n",
        "StopWords: https://medium.com/@saitejaponugoti/stop-words-in-nlp-5b248dadad47"
      ],
      "metadata": {
        "id": "SrD8SDIlyJNL"
      }
    }
  ]
}